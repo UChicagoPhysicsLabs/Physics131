{
  "nbformat": 4,
  "nbformat_minor": 0,
  "metadata": {
    "colab": {
      "name": "Cratering",
      "provenance": [],
      "collapsed_sections": [
        "NdHh3BxR_8rl",
        "BiWFTKSnYuZ3",
        "VVg9kc19KZfO"
      ]
    },
    "kernelspec": {
      "name": "python3",
      "display_name": "Python 3"
    },
    "widgets": {
      "application/vnd.jupyter.widget-state+json": {
        "d455c45c4e764387b7fd2348c154f9d9": {
          "model_module": "@jupyter-widgets/controls",
          "model_name": "VBoxModel",
          "model_module_version": "1.5.0",
          "state": {
            "_view_name": "VBoxView",
            "_dom_classes": [
              "widget-interact"
            ],
            "_model_name": "VBoxModel",
            "_view_module": "@jupyter-widgets/controls",
            "_model_module_version": "1.5.0",
            "_view_count": null,
            "_view_module_version": "1.5.0",
            "box_style": "",
            "layout": "IPY_MODEL_6cc10efe6c004041abecb367fff4a5ee",
            "_model_module": "@jupyter-widgets/controls",
            "children": [
              "IPY_MODEL_4993363e44ef40a68259dc9d72bccb6a",
              "IPY_MODEL_1e2f97d44df94333bcaafbb53e9692c7",
              "IPY_MODEL_6c99b76b1f8d4921a063a2645f74a439",
              "IPY_MODEL_072ee2822d254c03927f249411eda808",
              "IPY_MODEL_c8a24b30d45942d280664936f1103558"
            ]
          }
        },
        "6cc10efe6c004041abecb367fff4a5ee": {
          "model_module": "@jupyter-widgets/base",
          "model_name": "LayoutModel",
          "model_module_version": "1.2.0",
          "state": {
            "_view_name": "LayoutView",
            "grid_template_rows": null,
            "right": null,
            "justify_content": null,
            "_view_module": "@jupyter-widgets/base",
            "overflow": null,
            "_model_module_version": "1.2.0",
            "_view_count": null,
            "flex_flow": null,
            "width": null,
            "min_width": null,
            "border": null,
            "align_items": null,
            "bottom": null,
            "_model_module": "@jupyter-widgets/base",
            "top": null,
            "grid_column": null,
            "overflow_y": null,
            "overflow_x": null,
            "grid_auto_flow": null,
            "grid_area": null,
            "grid_template_columns": null,
            "flex": null,
            "_model_name": "LayoutModel",
            "justify_items": null,
            "grid_row": null,
            "max_height": null,
            "align_content": null,
            "visibility": null,
            "align_self": null,
            "height": null,
            "min_height": null,
            "padding": null,
            "grid_auto_rows": null,
            "grid_gap": null,
            "max_width": null,
            "order": null,
            "_view_module_version": "1.2.0",
            "grid_template_areas": null,
            "object_position": null,
            "object_fit": null,
            "grid_auto_columns": null,
            "margin": null,
            "display": null,
            "left": null
          }
        },
        "4993363e44ef40a68259dc9d72bccb6a": {
          "model_module": "@jupyter-widgets/controls",
          "model_name": "FloatSliderModel",
          "model_module_version": "1.5.0",
          "state": {
            "_view_name": "FloatSliderView",
            "style": "IPY_MODEL_b16004c7f75c4fe0bab79ed680491626",
            "_dom_classes": [],
            "description": "A",
            "step": 0.1,
            "_model_name": "FloatSliderModel",
            "orientation": "horizontal",
            "max": 20,
            "_view_module": "@jupyter-widgets/controls",
            "_model_module_version": "1.5.0",
            "value": 2,
            "_view_count": null,
            "disabled": false,
            "_view_module_version": "1.5.0",
            "min": 1,
            "continuous_update": true,
            "readout_format": ".2f",
            "description_tooltip": null,
            "readout": true,
            "_model_module": "@jupyter-widgets/controls",
            "layout": "IPY_MODEL_d700610166984a849657fdea245268e9"
          }
        },
        "1e2f97d44df94333bcaafbb53e9692c7": {
          "model_module": "@jupyter-widgets/controls",
          "model_name": "FloatSliderModel",
          "model_module_version": "1.5.0",
          "state": {
            "_view_name": "FloatSliderView",
            "style": "IPY_MODEL_5c490cdb6315444196c686452e7b77ae",
            "_dom_classes": [],
            "description": "B",
            "step": 0.1,
            "_model_name": "FloatSliderModel",
            "orientation": "horizontal",
            "max": 20,
            "_view_module": "@jupyter-widgets/controls",
            "_model_module_version": "1.5.0",
            "value": 2,
            "_view_count": null,
            "disabled": false,
            "_view_module_version": "1.5.0",
            "min": 1,
            "continuous_update": true,
            "readout_format": ".2f",
            "description_tooltip": null,
            "readout": true,
            "_model_module": "@jupyter-widgets/controls",
            "layout": "IPY_MODEL_252271cc4b5446e09a2d5ad8f4caae21"
          }
        },
        "6c99b76b1f8d4921a063a2645f74a439": {
          "model_module": "@jupyter-widgets/controls",
          "model_name": "FloatSliderModel",
          "model_module_version": "1.5.0",
          "state": {
            "_view_name": "FloatSliderView",
            "style": "IPY_MODEL_80059b8c69d14a8bbee76e0f4721c521",
            "_dom_classes": [],
            "description": "maxK",
            "step": 0.1,
            "_model_name": "FloatSliderModel",
            "orientation": "horizontal",
            "max": 2,
            "_view_module": "@jupyter-widgets/controls",
            "_model_module_version": "1.5.0",
            "value": 1,
            "_view_count": null,
            "disabled": false,
            "_view_module_version": "1.5.0",
            "min": 0,
            "continuous_update": true,
            "readout_format": ".2f",
            "description_tooltip": null,
            "readout": true,
            "_model_module": "@jupyter-widgets/controls",
            "layout": "IPY_MODEL_83071188dafa4ab1a982845675596ab4"
          }
        },
        "072ee2822d254c03927f249411eda808": {
          "model_module": "@jupyter-widgets/controls",
          "model_name": "CheckboxModel",
          "model_module_version": "1.5.0",
          "state": {
            "_view_name": "CheckboxView",
            "style": "IPY_MODEL_b4b88a2e0ff24be28fe9a90387a3ec22",
            "_dom_classes": [],
            "description": "log-log plot?",
            "_model_name": "CheckboxModel",
            "_view_module": "@jupyter-widgets/controls",
            "_model_module_version": "1.5.0",
            "value": false,
            "_view_count": null,
            "disabled": false,
            "_view_module_version": "1.5.0",
            "indent": true,
            "description_tooltip": null,
            "_model_module": "@jupyter-widgets/controls",
            "layout": "IPY_MODEL_5c2d7d5d344e4f78b024fccb931b521f"
          }
        },
        "c8a24b30d45942d280664936f1103558": {
          "model_module": "@jupyter-widgets/output",
          "model_name": "OutputModel",
          "model_module_version": "1.0.0",
          "state": {
            "_view_name": "OutputView",
            "msg_id": "",
            "_dom_classes": [],
            "_model_name": "OutputModel",
            "outputs": [
              {
                "output_type": "display_data",
                "data": {
                  "image/png": "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\n",
                  "text/plain": "<Figure size 960x640 with 1 Axes>"
                },
                "metadata": {
                  "needs_background": "light"
                }
              }
            ],
            "_view_module": "@jupyter-widgets/output",
            "_model_module_version": "1.0.0",
            "_view_count": null,
            "_view_module_version": "1.0.0",
            "layout": "IPY_MODEL_df14ac8d20674822ac66d048caae1eef",
            "_model_module": "@jupyter-widgets/output"
          }
        },
        "b16004c7f75c4fe0bab79ed680491626": {
          "model_module": "@jupyter-widgets/controls",
          "model_name": "SliderStyleModel",
          "model_module_version": "1.5.0",
          "state": {
            "_view_name": "StyleView",
            "handle_color": null,
            "_model_name": "SliderStyleModel",
            "description_width": "",
            "_view_module": "@jupyter-widgets/base",
            "_model_module_version": "1.5.0",
            "_view_count": null,
            "_view_module_version": "1.2.0",
            "_model_module": "@jupyter-widgets/controls"
          }
        },
        "d700610166984a849657fdea245268e9": {
          "model_module": "@jupyter-widgets/base",
          "model_name": "LayoutModel",
          "model_module_version": "1.2.0",
          "state": {
            "_view_name": "LayoutView",
            "grid_template_rows": null,
            "right": null,
            "justify_content": null,
            "_view_module": "@jupyter-widgets/base",
            "overflow": null,
            "_model_module_version": "1.2.0",
            "_view_count": null,
            "flex_flow": null,
            "width": null,
            "min_width": null,
            "border": null,
            "align_items": null,
            "bottom": null,
            "_model_module": "@jupyter-widgets/base",
            "top": null,
            "grid_column": null,
            "overflow_y": null,
            "overflow_x": null,
            "grid_auto_flow": null,
            "grid_area": null,
            "grid_template_columns": null,
            "flex": null,
            "_model_name": "LayoutModel",
            "justify_items": null,
            "grid_row": null,
            "max_height": null,
            "align_content": null,
            "visibility": null,
            "align_self": null,
            "height": null,
            "min_height": null,
            "padding": null,
            "grid_auto_rows": null,
            "grid_gap": null,
            "max_width": null,
            "order": null,
            "_view_module_version": "1.2.0",
            "grid_template_areas": null,
            "object_position": null,
            "object_fit": null,
            "grid_auto_columns": null,
            "margin": null,
            "display": null,
            "left": null
          }
        },
        "5c490cdb6315444196c686452e7b77ae": {
          "model_module": "@jupyter-widgets/controls",
          "model_name": "SliderStyleModel",
          "model_module_version": "1.5.0",
          "state": {
            "_view_name": "StyleView",
            "handle_color": null,
            "_model_name": "SliderStyleModel",
            "description_width": "",
            "_view_module": "@jupyter-widgets/base",
            "_model_module_version": "1.5.0",
            "_view_count": null,
            "_view_module_version": "1.2.0",
            "_model_module": "@jupyter-widgets/controls"
          }
        },
        "252271cc4b5446e09a2d5ad8f4caae21": {
          "model_module": "@jupyter-widgets/base",
          "model_name": "LayoutModel",
          "model_module_version": "1.2.0",
          "state": {
            "_view_name": "LayoutView",
            "grid_template_rows": null,
            "right": null,
            "justify_content": null,
            "_view_module": "@jupyter-widgets/base",
            "overflow": null,
            "_model_module_version": "1.2.0",
            "_view_count": null,
            "flex_flow": null,
            "width": null,
            "min_width": null,
            "border": null,
            "align_items": null,
            "bottom": null,
            "_model_module": "@jupyter-widgets/base",
            "top": null,
            "grid_column": null,
            "overflow_y": null,
            "overflow_x": null,
            "grid_auto_flow": null,
            "grid_area": null,
            "grid_template_columns": null,
            "flex": null,
            "_model_name": "LayoutModel",
            "justify_items": null,
            "grid_row": null,
            "max_height": null,
            "align_content": null,
            "visibility": null,
            "align_self": null,
            "height": null,
            "min_height": null,
            "padding": null,
            "grid_auto_rows": null,
            "grid_gap": null,
            "max_width": null,
            "order": null,
            "_view_module_version": "1.2.0",
            "grid_template_areas": null,
            "object_position": null,
            "object_fit": null,
            "grid_auto_columns": null,
            "margin": null,
            "display": null,
            "left": null
          }
        },
        "80059b8c69d14a8bbee76e0f4721c521": {
          "model_module": "@jupyter-widgets/controls",
          "model_name": "SliderStyleModel",
          "model_module_version": "1.5.0",
          "state": {
            "_view_name": "StyleView",
            "handle_color": null,
            "_model_name": "SliderStyleModel",
            "description_width": "",
            "_view_module": "@jupyter-widgets/base",
            "_model_module_version": "1.5.0",
            "_view_count": null,
            "_view_module_version": "1.2.0",
            "_model_module": "@jupyter-widgets/controls"
          }
        },
        "83071188dafa4ab1a982845675596ab4": {
          "model_module": "@jupyter-widgets/base",
          "model_name": "LayoutModel",
          "model_module_version": "1.2.0",
          "state": {
            "_view_name": "LayoutView",
            "grid_template_rows": null,
            "right": null,
            "justify_content": null,
            "_view_module": "@jupyter-widgets/base",
            "overflow": null,
            "_model_module_version": "1.2.0",
            "_view_count": null,
            "flex_flow": null,
            "width": null,
            "min_width": null,
            "border": null,
            "align_items": null,
            "bottom": null,
            "_model_module": "@jupyter-widgets/base",
            "top": null,
            "grid_column": null,
            "overflow_y": null,
            "overflow_x": null,
            "grid_auto_flow": null,
            "grid_area": null,
            "grid_template_columns": null,
            "flex": null,
            "_model_name": "LayoutModel",
            "justify_items": null,
            "grid_row": null,
            "max_height": null,
            "align_content": null,
            "visibility": null,
            "align_self": null,
            "height": null,
            "min_height": null,
            "padding": null,
            "grid_auto_rows": null,
            "grid_gap": null,
            "max_width": null,
            "order": null,
            "_view_module_version": "1.2.0",
            "grid_template_areas": null,
            "object_position": null,
            "object_fit": null,
            "grid_auto_columns": null,
            "margin": null,
            "display": null,
            "left": null
          }
        },
        "b4b88a2e0ff24be28fe9a90387a3ec22": {
          "model_module": "@jupyter-widgets/controls",
          "model_name": "DescriptionStyleModel",
          "model_module_version": "1.5.0",
          "state": {
            "_view_name": "StyleView",
            "_model_name": "DescriptionStyleModel",
            "description_width": "",
            "_view_module": "@jupyter-widgets/base",
            "_model_module_version": "1.5.0",
            "_view_count": null,
            "_view_module_version": "1.2.0",
            "_model_module": "@jupyter-widgets/controls"
          }
        },
        "5c2d7d5d344e4f78b024fccb931b521f": {
          "model_module": "@jupyter-widgets/base",
          "model_name": "LayoutModel",
          "model_module_version": "1.2.0",
          "state": {
            "_view_name": "LayoutView",
            "grid_template_rows": null,
            "right": null,
            "justify_content": null,
            "_view_module": "@jupyter-widgets/base",
            "overflow": null,
            "_model_module_version": "1.2.0",
            "_view_count": null,
            "flex_flow": null,
            "width": null,
            "min_width": null,
            "border": null,
            "align_items": null,
            "bottom": null,
            "_model_module": "@jupyter-widgets/base",
            "top": null,
            "grid_column": null,
            "overflow_y": null,
            "overflow_x": null,
            "grid_auto_flow": null,
            "grid_area": null,
            "grid_template_columns": null,
            "flex": null,
            "_model_name": "LayoutModel",
            "justify_items": null,
            "grid_row": null,
            "max_height": null,
            "align_content": null,
            "visibility": null,
            "align_self": null,
            "height": null,
            "min_height": null,
            "padding": null,
            "grid_auto_rows": null,
            "grid_gap": null,
            "max_width": null,
            "order": null,
            "_view_module_version": "1.2.0",
            "grid_template_areas": null,
            "object_position": null,
            "object_fit": null,
            "grid_auto_columns": null,
            "margin": null,
            "display": null,
            "left": null
          }
        },
        "df14ac8d20674822ac66d048caae1eef": {
          "model_module": "@jupyter-widgets/base",
          "model_name": "LayoutModel",
          "model_module_version": "1.2.0",
          "state": {
            "_view_name": "LayoutView",
            "grid_template_rows": null,
            "right": null,
            "justify_content": null,
            "_view_module": "@jupyter-widgets/base",
            "overflow": null,
            "_model_module_version": "1.2.0",
            "_view_count": null,
            "flex_flow": null,
            "width": null,
            "min_width": null,
            "border": null,
            "align_items": null,
            "bottom": null,
            "_model_module": "@jupyter-widgets/base",
            "top": null,
            "grid_column": null,
            "overflow_y": null,
            "overflow_x": null,
            "grid_auto_flow": null,
            "grid_area": null,
            "grid_template_columns": null,
            "flex": null,
            "_model_name": "LayoutModel",
            "justify_items": null,
            "grid_row": null,
            "max_height": null,
            "align_content": null,
            "visibility": null,
            "align_self": null,
            "height": null,
            "min_height": null,
            "padding": null,
            "grid_auto_rows": null,
            "grid_gap": null,
            "max_width": null,
            "order": null,
            "_view_module_version": "1.2.0",
            "grid_template_areas": null,
            "object_position": null,
            "object_fit": null,
            "grid_auto_columns": null,
            "margin": null,
            "display": null,
            "left": null
          }
        },
        "e1b72c2ba96945b29301e62cc6c24fc0": {
          "model_module": "@jupyter-widgets/controls",
          "model_name": "VBoxModel",
          "model_module_version": "1.5.0",
          "state": {
            "_view_name": "VBoxView",
            "_dom_classes": [
              "widget-interact"
            ],
            "_model_name": "VBoxModel",
            "_view_module": "@jupyter-widgets/controls",
            "_model_module_version": "1.5.0",
            "_view_count": null,
            "_view_module_version": "1.5.0",
            "box_style": "",
            "layout": "IPY_MODEL_635ccf2d637947b2ab216ea0f8d3f0bf",
            "_model_module": "@jupyter-widgets/controls",
            "children": [
              "IPY_MODEL_6d0ded7e3e1649af9e91c949dcdef858",
              "IPY_MODEL_7ae992d9a44949bda3433ed9b80809ba"
            ]
          }
        },
        "635ccf2d637947b2ab216ea0f8d3f0bf": {
          "model_module": "@jupyter-widgets/base",
          "model_name": "LayoutModel",
          "model_module_version": "1.2.0",
          "state": {
            "_view_name": "LayoutView",
            "grid_template_rows": null,
            "right": null,
            "justify_content": null,
            "_view_module": "@jupyter-widgets/base",
            "overflow": null,
            "_model_module_version": "1.2.0",
            "_view_count": null,
            "flex_flow": null,
            "width": null,
            "min_width": null,
            "border": null,
            "align_items": null,
            "bottom": null,
            "_model_module": "@jupyter-widgets/base",
            "top": null,
            "grid_column": null,
            "overflow_y": null,
            "overflow_x": null,
            "grid_auto_flow": null,
            "grid_area": null,
            "grid_template_columns": null,
            "flex": null,
            "_model_name": "LayoutModel",
            "justify_items": null,
            "grid_row": null,
            "max_height": null,
            "align_content": null,
            "visibility": null,
            "align_self": null,
            "height": null,
            "min_height": null,
            "padding": null,
            "grid_auto_rows": null,
            "grid_gap": null,
            "max_width": null,
            "order": null,
            "_view_module_version": "1.2.0",
            "grid_template_areas": null,
            "object_position": null,
            "object_fit": null,
            "grid_auto_columns": null,
            "margin": null,
            "display": null,
            "left": null
          }
        },
        "6d0ded7e3e1649af9e91c949dcdef858": {
          "model_module": "@jupyter-widgets/controls",
          "model_name": "CheckboxModel",
          "model_module_version": "1.5.0",
          "state": {
            "_view_name": "CheckboxView",
            "style": "IPY_MODEL_2afffe0edea64064bb556fda7ecc876f",
            "_dom_classes": [],
            "description": "log-log plot?",
            "_model_name": "CheckboxModel",
            "_view_module": "@jupyter-widgets/controls",
            "_model_module_version": "1.5.0",
            "value": false,
            "_view_count": null,
            "disabled": false,
            "_view_module_version": "1.5.0",
            "indent": true,
            "description_tooltip": null,
            "_model_module": "@jupyter-widgets/controls",
            "layout": "IPY_MODEL_1bb8f68f1a4641eea1aea208b01409da"
          }
        },
        "7ae992d9a44949bda3433ed9b80809ba": {
          "model_module": "@jupyter-widgets/output",
          "model_name": "OutputModel",
          "model_module_version": "1.0.0",
          "state": {
            "_view_name": "OutputView",
            "msg_id": "",
            "_dom_classes": [],
            "_model_name": "OutputModel",
            "outputs": [
              {
                "output_type": "display_data",
                "data": {
                  "image/png": "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\n",
                  "text/plain": "<Figure size 960x640 with 1 Axes>"
                },
                "metadata": {
                  "needs_background": "light"
                }
              }
            ],
            "_view_module": "@jupyter-widgets/output",
            "_model_module_version": "1.0.0",
            "_view_count": null,
            "_view_module_version": "1.0.0",
            "layout": "IPY_MODEL_badb5f5441a34fc2b03dc0b2bf44ddb6",
            "_model_module": "@jupyter-widgets/output"
          }
        },
        "2afffe0edea64064bb556fda7ecc876f": {
          "model_module": "@jupyter-widgets/controls",
          "model_name": "DescriptionStyleModel",
          "model_module_version": "1.5.0",
          "state": {
            "_view_name": "StyleView",
            "_model_name": "DescriptionStyleModel",
            "description_width": "",
            "_view_module": "@jupyter-widgets/base",
            "_model_module_version": "1.5.0",
            "_view_count": null,
            "_view_module_version": "1.2.0",
            "_model_module": "@jupyter-widgets/controls"
          }
        },
        "1bb8f68f1a4641eea1aea208b01409da": {
          "model_module": "@jupyter-widgets/base",
          "model_name": "LayoutModel",
          "model_module_version": "1.2.0",
          "state": {
            "_view_name": "LayoutView",
            "grid_template_rows": null,
            "right": null,
            "justify_content": null,
            "_view_module": "@jupyter-widgets/base",
            "overflow": null,
            "_model_module_version": "1.2.0",
            "_view_count": null,
            "flex_flow": null,
            "width": null,
            "min_width": null,
            "border": null,
            "align_items": null,
            "bottom": null,
            "_model_module": "@jupyter-widgets/base",
            "top": null,
            "grid_column": null,
            "overflow_y": null,
            "overflow_x": null,
            "grid_auto_flow": null,
            "grid_area": null,
            "grid_template_columns": null,
            "flex": null,
            "_model_name": "LayoutModel",
            "justify_items": null,
            "grid_row": null,
            "max_height": null,
            "align_content": null,
            "visibility": null,
            "align_self": null,
            "height": null,
            "min_height": null,
            "padding": null,
            "grid_auto_rows": null,
            "grid_gap": null,
            "max_width": null,
            "order": null,
            "_view_module_version": "1.2.0",
            "grid_template_areas": null,
            "object_position": null,
            "object_fit": null,
            "grid_auto_columns": null,
            "margin": null,
            "display": null,
            "left": null
          }
        },
        "badb5f5441a34fc2b03dc0b2bf44ddb6": {
          "model_module": "@jupyter-widgets/base",
          "model_name": "LayoutModel",
          "model_module_version": "1.2.0",
          "state": {
            "_view_name": "LayoutView",
            "grid_template_rows": null,
            "right": null,
            "justify_content": null,
            "_view_module": "@jupyter-widgets/base",
            "overflow": null,
            "_model_module_version": "1.2.0",
            "_view_count": null,
            "flex_flow": null,
            "width": null,
            "min_width": null,
            "border": null,
            "align_items": null,
            "bottom": null,
            "_model_module": "@jupyter-widgets/base",
            "top": null,
            "grid_column": null,
            "overflow_y": null,
            "overflow_x": null,
            "grid_auto_flow": null,
            "grid_area": null,
            "grid_template_columns": null,
            "flex": null,
            "_model_name": "LayoutModel",
            "justify_items": null,
            "grid_row": null,
            "max_height": null,
            "align_content": null,
            "visibility": null,
            "align_self": null,
            "height": null,
            "min_height": null,
            "padding": null,
            "grid_auto_rows": null,
            "grid_gap": null,
            "max_width": null,
            "order": null,
            "_view_module_version": "1.2.0",
            "grid_template_areas": null,
            "object_position": null,
            "object_fit": null,
            "grid_auto_columns": null,
            "margin": null,
            "display": null,
            "left": null
          }
        },
        "d7dca86335404762a425d3e6c74c1b1b": {
          "model_module": "@jupyter-widgets/controls",
          "model_name": "VBoxModel",
          "model_module_version": "1.5.0",
          "state": {
            "_view_name": "VBoxView",
            "_dom_classes": [
              "widget-interact"
            ],
            "_model_name": "VBoxModel",
            "_view_module": "@jupyter-widgets/controls",
            "_model_module_version": "1.5.0",
            "_view_count": null,
            "_view_module_version": "1.5.0",
            "box_style": "",
            "layout": "IPY_MODEL_4218fcb462614ee0ab0a180987173e41",
            "_model_module": "@jupyter-widgets/controls",
            "children": [
              "IPY_MODEL_8257d11eaf08419a8caa94e42ee0f1fc",
              "IPY_MODEL_c43fe1f7f5ca4b69bdf6f1f7ba04f30b"
            ]
          }
        },
        "4218fcb462614ee0ab0a180987173e41": {
          "model_module": "@jupyter-widgets/base",
          "model_name": "LayoutModel",
          "model_module_version": "1.2.0",
          "state": {
            "_view_name": "LayoutView",
            "grid_template_rows": null,
            "right": null,
            "justify_content": null,
            "_view_module": "@jupyter-widgets/base",
            "overflow": null,
            "_model_module_version": "1.2.0",
            "_view_count": null,
            "flex_flow": null,
            "width": null,
            "min_width": null,
            "border": null,
            "align_items": null,
            "bottom": null,
            "_model_module": "@jupyter-widgets/base",
            "top": null,
            "grid_column": null,
            "overflow_y": null,
            "overflow_x": null,
            "grid_auto_flow": null,
            "grid_area": null,
            "grid_template_columns": null,
            "flex": null,
            "_model_name": "LayoutModel",
            "justify_items": null,
            "grid_row": null,
            "max_height": null,
            "align_content": null,
            "visibility": null,
            "align_self": null,
            "height": null,
            "min_height": null,
            "padding": null,
            "grid_auto_rows": null,
            "grid_gap": null,
            "max_width": null,
            "order": null,
            "_view_module_version": "1.2.0",
            "grid_template_areas": null,
            "object_position": null,
            "object_fit": null,
            "grid_auto_columns": null,
            "margin": null,
            "display": null,
            "left": null
          }
        },
        "8257d11eaf08419a8caa94e42ee0f1fc": {
          "model_module": "@jupyter-widgets/controls",
          "model_name": "CheckboxModel",
          "model_module_version": "1.5.0",
          "state": {
            "_view_name": "CheckboxView",
            "style": "IPY_MODEL_b7c0e60cd8d24ff4a554dad3d36e4bc4",
            "_dom_classes": [],
            "description": "log-log plot?",
            "_model_name": "CheckboxModel",
            "_view_module": "@jupyter-widgets/controls",
            "_model_module_version": "1.5.0",
            "value": false,
            "_view_count": null,
            "disabled": false,
            "_view_module_version": "1.5.0",
            "indent": true,
            "description_tooltip": null,
            "_model_module": "@jupyter-widgets/controls",
            "layout": "IPY_MODEL_fc2053ce9b84409fbb0c3215344e6dbd"
          }
        },
        "c43fe1f7f5ca4b69bdf6f1f7ba04f30b": {
          "model_module": "@jupyter-widgets/output",
          "model_name": "OutputModel",
          "model_module_version": "1.0.0",
          "state": {
            "_view_name": "OutputView",
            "msg_id": "",
            "_dom_classes": [],
            "_model_name": "OutputModel",
            "outputs": [
              {
                "output_type": "display_data",
                "data": {
                  "image/png": "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\n",
                  "text/plain": "<Figure size 960x640 with 1 Axes>"
                },
                "metadata": {
                  "needs_background": "light"
                }
              }
            ],
            "_view_module": "@jupyter-widgets/output",
            "_model_module_version": "1.0.0",
            "_view_count": null,
            "_view_module_version": "1.0.0",
            "layout": "IPY_MODEL_ffb117c507fe494aa68c90d315457c04",
            "_model_module": "@jupyter-widgets/output"
          }
        },
        "b7c0e60cd8d24ff4a554dad3d36e4bc4": {
          "model_module": "@jupyter-widgets/controls",
          "model_name": "DescriptionStyleModel",
          "model_module_version": "1.5.0",
          "state": {
            "_view_name": "StyleView",
            "_model_name": "DescriptionStyleModel",
            "description_width": "",
            "_view_module": "@jupyter-widgets/base",
            "_model_module_version": "1.5.0",
            "_view_count": null,
            "_view_module_version": "1.2.0",
            "_model_module": "@jupyter-widgets/controls"
          }
        },
        "fc2053ce9b84409fbb0c3215344e6dbd": {
          "model_module": "@jupyter-widgets/base",
          "model_name": "LayoutModel",
          "model_module_version": "1.2.0",
          "state": {
            "_view_name": "LayoutView",
            "grid_template_rows": null,
            "right": null,
            "justify_content": null,
            "_view_module": "@jupyter-widgets/base",
            "overflow": null,
            "_model_module_version": "1.2.0",
            "_view_count": null,
            "flex_flow": null,
            "width": null,
            "min_width": null,
            "border": null,
            "align_items": null,
            "bottom": null,
            "_model_module": "@jupyter-widgets/base",
            "top": null,
            "grid_column": null,
            "overflow_y": null,
            "overflow_x": null,
            "grid_auto_flow": null,
            "grid_area": null,
            "grid_template_columns": null,
            "flex": null,
            "_model_name": "LayoutModel",
            "justify_items": null,
            "grid_row": null,
            "max_height": null,
            "align_content": null,
            "visibility": null,
            "align_self": null,
            "height": null,
            "min_height": null,
            "padding": null,
            "grid_auto_rows": null,
            "grid_gap": null,
            "max_width": null,
            "order": null,
            "_view_module_version": "1.2.0",
            "grid_template_areas": null,
            "object_position": null,
            "object_fit": null,
            "grid_auto_columns": null,
            "margin": null,
            "display": null,
            "left": null
          }
        },
        "ffb117c507fe494aa68c90d315457c04": {
          "model_module": "@jupyter-widgets/base",
          "model_name": "LayoutModel",
          "model_module_version": "1.2.0",
          "state": {
            "_view_name": "LayoutView",
            "grid_template_rows": null,
            "right": null,
            "justify_content": null,
            "_view_module": "@jupyter-widgets/base",
            "overflow": null,
            "_model_module_version": "1.2.0",
            "_view_count": null,
            "flex_flow": null,
            "width": null,
            "min_width": null,
            "border": null,
            "align_items": null,
            "bottom": null,
            "_model_module": "@jupyter-widgets/base",
            "top": null,
            "grid_column": null,
            "overflow_y": null,
            "overflow_x": null,
            "grid_auto_flow": null,
            "grid_area": null,
            "grid_template_columns": null,
            "flex": null,
            "_model_name": "LayoutModel",
            "justify_items": null,
            "grid_row": null,
            "max_height": null,
            "align_content": null,
            "visibility": null,
            "align_self": null,
            "height": null,
            "min_height": null,
            "padding": null,
            "grid_auto_rows": null,
            "grid_gap": null,
            "max_width": null,
            "order": null,
            "_view_module_version": "1.2.0",
            "grid_template_areas": null,
            "object_position": null,
            "object_fit": null,
            "grid_auto_columns": null,
            "margin": null,
            "display": null,
            "left": null
          }
        }
      }
    }
  },
  "cells": [
    {
      "cell_type": "markdown",
      "metadata": {
        "id": "4ySk1v1dA8KQ"
      },
      "source": [
        "#CRATERING\n",
        "\n",
        "Just as last time, there are some preliminary cells (which you should run first everytime you start the notebook) followed by separate sections for each part of the experiment. Each part is self-contained, so you only need to run the preliminary cells and then the code within that section; you will not need to run anything in Part 1, for example, if you are working on Part 2."
      ]
    },
    {
      "cell_type": "markdown",
      "metadata": {
        "id": "NdHh3BxR_8rl"
      },
      "source": [
        "# Preliminary cells\n",
        "Run the following cells **every time** you start the notebook and before moving on to any individual part.\n",
        "\n",
        "These cells load libraries and defines some useful functions. Later when you have more time, you can look closely at the code and try to understand what it is doing, but for now you can just run the cells by clicking `shift+enter` and moving on. (There is no output.)"
      ]
    },
    {
      "cell_type": "code",
      "metadata": {
        "id": "FYyrc5_r_7iQ"
      },
      "source": [
        "# These lines load important libraries into memory\n",
        "import numpy as np\n",
        "from matplotlib import pyplot as plt\n",
        "import ipywidgets as widgets\n",
        "from IPython.display import clear_output\n",
        "from scipy import optimize\n",
        "\n",
        "# Below are several functions we want to define\n",
        "def average(x):\n",
        "    sum = 0                  # initializes our running total to be zero and calls it \"sum\"\n",
        "    for number in x:         # makes a loop over the list \"x\" \n",
        "        sum = sum + number   # adds the current item in the list (called \"number\" to the running total (called \"sum\")\n",
        "    return(sum / len(x))     # divides the total by the number of items in the list\n",
        "\n",
        "def standard_deviation(x):\n",
        "    avg = average(x)\n",
        "    variance = 0                                # initializes our running total to be zero and calls it \"variance\"\n",
        "    for number in x:                            # makes a loop over the list \"x\" \n",
        "        variance = variance + (number - avg)**2 # adds the square of the difference between each item and the average  \n",
        "    return(np.sqrt(variance/(len(x)-1)))        # divides the total by N-1\n",
        "\n",
        "def standard_error(x):\n",
        "    return(standard_deviation(x))/np.sqrt(len(x)) # divides the standard deviation by sqrt of the number of points\n",
        "\n",
        "def t_prime(A, dA, B, dB=0):               # Calculates the t_prime value between A +/- dA and B +/- B\n",
        "    return((A-B)/np.sqrt(dA**2 + dB**2))   # If only 3 arguments are given, assumes dB = 0 (e.g. a literature value)"
      ],
      "execution_count": null,
      "outputs": []
    },
    {
      "cell_type": "code",
      "metadata": {
        "id": "eomHvKCQRl6N"
      },
      "source": [
        "# These lines control how our figures look\n",
        "%matplotlib inline\n",
        "plt.rcParams['figure.dpi'] = 160 #Change this value to make your picture bigger or smaller"
      ],
      "execution_count": null,
      "outputs": []
    },
    {
      "cell_type": "markdown",
      "metadata": {
        "id": "BiWFTKSnYuZ3"
      },
      "source": [
        "# Part 1 -- Making Craters\n",
        "You can use these cells to do calculations and plot your data as you go.\n"
      ]
    },
    {
      "cell_type": "markdown",
      "metadata": {
        "id": "a32nXyM-BV3Q"
      },
      "source": [
        "The cell below first creates empty lists for energies (in Joules) and crater diameters (in centimeters). We then `append` (add to the end of) our experimental values that we have measured.\n",
        "\n",
        "**To add more test energies, use `Energy.append(`energy`)` and `Crater_Width.append([`list of numbers`])`**\n",
        "\n",
        "\n",
        "\n",
        "\n"
      ]
    },
    {
      "cell_type": "code",
      "metadata": {
        "id": "1rgTfXZrBmyy"
      },
      "source": [
        "# This creates empty lists\n",
        "Energy = []\n",
        "Crater_Width = []\n",
        "\n",
        "# This is where you add the energy value and diameters for your first energy\n",
        "# NOTE THE FORMATTING: the energy value is a single number, but the diameters is a list of number\n",
        "#  enclosed in square brackets [...]. Don't forget the square brackets!\n",
        "Energy.append(0.60)\n",
        "Crater_Width.append([5.9, 5.8, 6.0, 6.05, 5.8, 5.9, 5.9])\n",
        "\n",
        "# This is where you add the energy value and diameters for your second energy\n",
        "Energy.append(0.51)\n",
        "Crater_Width.append([5.6, 5.4, 5.6, 5.7, 5.8, 5.7, 6.0])\n",
        "\n",
        "#This is your third energy and list of diameters, etc.\n",
        "Energy.append(0.35)\n",
        "Crater_Width.append([4.9, 5.0, 4.95, 5.1, 5.4, 5.0, 5.2])\n",
        "\n",
        "Energy.append(0.17)\n",
        "Crater_Width.append([4.3, 4.55, 4.5, 4.4, 4.5, 4.75, 4.4, 4.5])\n",
        "\n",
        "Energy.append(0.12)\n",
        "Crater_Width.append([3.75, 3.6, 3.8, 3.7, 3.55, 3.8, 3.85, 3.7])\n",
        "\n",
        "Energy.append(0.08)\n",
        "Crater_Width.append([3.55, 3.65, 3.6, 3.65, 3.45, 3.4])\n",
        "\n",
        "Energy.append(0.05)\n",
        "Crater_Width.append([2.9, 3.15, 3.0, 3.05, 3.05, 3.1, 3.0, 3.1])\n",
        "\n",
        "# To add more data, copy and paste additional pairs of the `append` commands from above... one for each energy\n",
        "# Energy.append()\n",
        "# Crater_Width.append([])"
      ],
      "execution_count": null,
      "outputs": []
    },
    {
      "cell_type": "markdown",
      "metadata": {
        "id": "l8QyziZOZJ88"
      },
      "source": [
        "Next we'll quickly plot each data set to make sure that we haven't done anything strange.\n",
        "\n",
        "Re-run this plot every time you add values for a new energy to see how things are evolving!"
      ]
    },
    {
      "cell_type": "code",
      "metadata": {
        "id": "osaNHhO_jr-v",
        "colab": {
          "base_uri": "https://localhost:8080/",
          "height": 629
        },
        "outputId": "7b9ff346-9fd8-4609-a0db-c88265242279"
      },
      "source": [
        "fig,ax = plt.subplots()\n",
        "\n",
        "# This is a loop that plots each energy in a different color\n",
        "for n, Width in enumerate(Crater_Width):\n",
        "    ax.scatter(np.full_like(Width,Energy[n]),Width,marker='.')\n",
        "\n",
        "ax.set_title('Raw Data Plot')\n",
        "ax.set_xlabel('Impactor Kinetic Energy (J)')\n",
        "ax.set_ylabel('Crater Diameter (cm)')\n",
        "plt.show()"
      ],
      "execution_count": null,
      "outputs": [
        {
          "output_type": "display_data",
          "data": {
            "image/png": "[encoded data removed]",
            "text/plain": [
              "<Figure size 960x640 with 1 Axes>"
            ]
          },
          "metadata": {
            "needs_background": "light"
          }
        }
      ]
    },
    {
      "cell_type": "markdown",
      "metadata": {
        "id": "urbN0-fHefBC"
      },
      "source": [
        "Now that we've checked our data, let's find the average and uncertainty for each energy value."
      ]
    },
    {
      "cell_type": "code",
      "metadata": {
        "id": "eT2zdtx6k76S",
        "colab": {
          "base_uri": "https://localhost:8080/",
          "height": 880,
          "referenced_widgets": [
            "d455c45c4e764387b7fd2348c154f9d9",
            "6cc10efe6c004041abecb367fff4a5ee",
            "4993363e44ef40a68259dc9d72bccb6a",
            "1e2f97d44df94333bcaafbb53e9692c7",
            "6c99b76b1f8d4921a063a2645f74a439",
            "072ee2822d254c03927f249411eda808",
            "c8a24b30d45942d280664936f1103558",
            "b16004c7f75c4fe0bab79ed680491626",
            "d700610166984a849657fdea245268e9",
            "5c490cdb6315444196c686452e7b77ae",
            "252271cc4b5446e09a2d5ad8f4caae21",
            "80059b8c69d14a8bbee76e0f4721c521",
            "83071188dafa4ab1a982845675596ab4",
            "b4b88a2e0ff24be28fe9a90387a3ec22",
            "5c2d7d5d344e4f78b024fccb931b521f",
            "df14ac8d20674822ac66d048caae1eef"
          ]
        },
        "outputId": "54c1ecc2-dd58-48b7-9114-520a772fb058"
      },
      "source": [
        "Crater_Width_Average = []\n",
        "Crater_Width_Uncertainty = []\n",
        "\n",
        "for n, Width in enumerate(Crater_Width):\n",
        "    Crater_Width_Average.append(average(Width))\n",
        "    Crater_Width_Uncertainty.append(standard_error(Width))\n",
        "    print(Energy[n],\"J   \", Crater_Width_Average[n],\"+-\",Crater_Width_Uncertainty[n],\"cm\")\n",
        "\n",
        "@widgets.interact(A = widgets.FloatSlider(min=1, max=20, step=0.1, value=2),\n",
        "                  B = widgets.FloatSlider(min=1, max=20, step=0.1, value=2),\n",
        "                  maxK = widgets.FloatSlider(min=0, max=2, step=0.1, value=1),\n",
        "                  logplot = widgets.Checkbox(value=False,\n",
        "                                             description= 'log-log plot?'))\n",
        "\n",
        "def update(A, B, maxK, logplot):\n",
        "  fig,ax = plt.subplots()\n",
        "  ax.errorbar(Energy, Crater_Width_Average, Crater_Width_Uncertainty, fmt='k.',\n",
        "             markersize=2, capsize=3)\n",
        "  X = np.linspace(0, maxK, 1000)\n",
        "  ax.plot(X, A*X**(1/3), label='$A*K^{1/3}$')\n",
        "  ax.plot(X, B*X**(1/4), label='$B*K^{1/4}$')\n",
        "  if logplot == True:\n",
        "    ax.set_xscale('log')\n",
        "    ax.set_yscale('log')\n",
        "  ax.set_title('Average Data Plot')\n",
        "  ax.set_xlabel('Impactor Kinetic Energy, $K$, (J)')\n",
        "  ax.set_ylabel('Crater Diameter (cm)')\n",
        "  ax.legend()"
      ],
      "execution_count": null,
      "outputs": [
        {
          "output_type": "stream",
          "name": "stdout",
          "text": [
            "0.6 J    5.9071428571428575 +- 0.035234877587973196 cm\n",
            "0.51 J    5.685714285714286 +- 0.07046975517594636 cm\n",
            "0.35 J    5.078571428571429 +- 0.06533534635243926 cm\n",
            "0.17 J    4.4875 +- 0.04700873778960064 cm\n",
            "0.12 J    3.71875 +- 0.03651993095753135 cm\n",
            "0.08 J    3.5499999999999994 +- 0.04281744192888375 cm\n",
            "0.05 J    3.0437500000000006 +- 0.027447189551677506 cm\n"
          ]
        },
        {
          "output_type": "display_data",
          "data": {
            "application/vnd.jupyter.widget-view+json": {
              "model_id": "d455c45c4e764387b7fd2348c154f9d9",
              "version_minor": 0,
              "version_major": 2
            },
            "text/plain": [
              "interactive(children=(FloatSlider(value=2.0, description='A', max=20.0, min=1.0), FloatSlider(value=2.0, descr…"
            ]
          },
          "metadata": {}
        }
      ]
    },
    {
      "cell_type": "markdown",
      "metadata": {
        "id": "2B5s8j4eK3wz"
      },
      "source": [
        "Record your average values, and don't forget to save your plots (right click and select \"save as\") and put copies in your lab notebook!"
      ]
    },
    {
      "cell_type": "markdown",
      "metadata": {
        "id": "VVg9kc19KZfO"
      },
      "source": [
        "# Part 2 -- Understanding and applying the model\n",
        "\n",
        "This part will fit your data to the competing models and help you make predictions for new craters."
      ]
    },
    {
      "cell_type": "markdown",
      "metadata": {
        "id": "xgGF-bZ-tm0M"
      },
      "source": [
        "Type in your energies, as well as the corresponding crater width averages and uncertainties. (You wrote those down last time, right? If not, you'll have to re-run the code in part one to calculate them again.)"
      ]
    },
    {
      "cell_type": "code",
      "metadata": {
        "id": "_ilH06eatgDe"
      },
      "source": [
        "Energy = [0.0523, 0.032, 0.0665, 0.01, 0.0196, 0.0083, 0.004]\n",
        "Crater_Width_Average = [5.723, 5.079, 5.917, 3.718, 4.488, 3.550, 3.044]\n",
        "Crater_Width_Uncertainty = [0.10, 0.095, 0.089, 0.057, 0.087, 0.053, 0.067]"
      ],
      "execution_count": null,
      "outputs": []
    },
    {
      "cell_type": "markdown",
      "metadata": {
        "id": "hcb3UUUESnJa"
      },
      "source": [
        "Next we define our two possible model functions,\n",
        " - The \"1/3-power model\": $D = A*K^{1/3}$\n",
        " - The \"1/4-power model\": $D = B*K^{1/4}$\n",
        "\n",
        "and our residual function (which calculates the difference between the data and the fit function),\n",
        " - Residual on point $i$: $\\chi_i = \\frac{D_{fit} - D_i}{\\delta D_i}$.\n",
        "\n",
        "We can also define a general power law function that may be useful later,\n",
        " - The \"general-power model\": $D = C*K^x$."
      ]
    },
    {
      "cell_type": "code",
      "metadata": {
        "id": "0e93gikCuYf-"
      },
      "source": [
        "#Defines fit functions\n",
        "def third_power(p, x):\n",
        "  return(p[0]*np.array(x)**(1/3)).tolist()\n",
        "\n",
        "def quarter_power(p, x):\n",
        "  return(p[0]*np.array(x)**(1/4)).tolist()\n",
        "\n",
        "def gen_power(p,x):\n",
        "  return(p[0]*np.array(x)**p[1]).tolist()\n",
        "\n",
        "def residual(p, function, x, y, dy):\n",
        "  return ((function(p, np.array(x)) - np.array(y))/np.array(dy))"
      ],
      "execution_count": null,
      "outputs": []
    },
    {
      "cell_type": "markdown",
      "metadata": {
        "id": "Rf-X-UIu--Yb"
      },
      "source": [
        "Next, we define a function that will perform a least-squares fit to a set of data. **This code is quite complex and you DO NOT need to understand it!**\n",
        "\n",
        "The fit returns the best fit values (e.g. $A$ or $B$) and the uncertainties on that value (e.g. $\\delta A$ or $\\delta B$). It also returns the number of degrees of freedom, the chi-squared value, and the reduced chi-squared value:\n",
        " - Number of degrees of freedom, dof: $\\nu$ = \"number of data points\" - \"number of fit parameters\" \n",
        " - Chi-square: $\\chi^2 = \\sum_i^N \\frac{(D_{fit} - D_i)^2}{\\delta D_i^2}$\n",
        " - Reduced chi-square: $\\chi^2/\\nu$ "
      ]
    },
    {
      "cell_type": "code",
      "metadata": {
        "id": "LvZSqinR4qvI"
      },
      "source": [
        "# The code below defines our data fitting function.\n",
        "# Inputs are:\n",
        "# a list of variable names\n",
        "# initial guess for parameters p0\n",
        "# the function we're fitting to\n",
        "# the x,y, and dy variables\n",
        "# tmi can be set to 1 or 2 if more intermediate data is needed\n",
        "\n",
        "def data_fit(varnames, p0, func, xvar, yvar, err, tmi=0):\n",
        "    try:\n",
        "        fit = optimize.least_squares(residual, p0, args=(func,xvar, yvar, err),\n",
        "                                     verbose=tmi)\n",
        "    except Exception as error:\n",
        "        print(\"Something has gone wrong:\", error)\n",
        "        return p0, np.zeros_like(p0), -1, -1\n",
        "    pf = fit['x']\n",
        "\n",
        "    try:\n",
        "        cov = np.linalg.inv(fit['jac'].T.dot(fit['jac']))          \n",
        "        # This computes a covariance matrix by finding the inverse of the Jacobian times its transpose\n",
        "        # We need this to find the uncertainty in our fit parameters\n",
        "    except:\n",
        "        # If the fit failed, print the reason\n",
        "        print('Fit did not converge')\n",
        "        print('Result is likely a local minimum')\n",
        "        print('Try changing initial values')\n",
        "        print('Status code:', fit['status'])\n",
        "        print(fit['message'])\n",
        "        return pf,np.zeros_like(pf), -1, -1\n",
        "            #You'll be able to plot with this, but it will not be a good fit.\n",
        "\n",
        "    chisq = sum(residual(pf,func,xvar, yvar, err) **2)\n",
        "    dof = len(xvar) - len(pf)\n",
        "    red_chisq = chisq/dof\n",
        "    pferr = np.sqrt(np.diagonal(cov)) # finds the uncertainty in fit parameters by squaring diagonal elements of the covariance matrix\n",
        "    print('Converged with chi-squared: {:.2f}'.format(chisq))\n",
        "    print('Number of degrees of freedom, dof: {:.0f}'.format(dof))\n",
        "    print('Reduced chi-squared (chi-squared/dof): {:.2f}'.format(red_chisq))\n",
        "    print()\n",
        "    Columns = [\"Parameter\", \"Best fit values:\", \"Uncertainties in the best fit values:\"]\n",
        "    print('{:<11}'.format(Columns[0]),'|','{:<24}'.format(Columns[1]),\"|\",'{:<24}'.format(Columns[2]))\n",
        "    for num in range(len(pf)):\n",
        "        print('{:<11}'.format(varnames[num]),'|','{:<24.4f}'.format(pf[num]),'|','{:<24.4f}'.format(pferr[num]))\n",
        "    print()\n",
        "    return pf, pferr, chisq, dof"
      ],
      "execution_count": null,
      "outputs": []
    },
    {
      "cell_type": "markdown",
      "metadata": {
        "id": "blMZD5nK006P"
      },
      "source": [
        "At the heart of this function is the idea of a **residual**. Residuals are a function of our data and the function we're fitting the data to. The residual for a point is the difference between the y-value of that datapoint and that of the function at the same point. It's a quantitative way of measuring how well a data and function agree with one another.\n",
        "\n",
        "Often formulas will use the residual squared as a way of avoiding negative numbers since undershooting and overshooting points are equally bad.\n",
        "\n",
        "The fitting algorithm above  will vary function parameters `p` repeatedly and keep changes that make the sum of the residuals (squared) smaller until it can't make any meaningful improvements. It also weights points by their uncertainties: points with large uncertanties are likely to be less representative of the underlying behavior than points with small uncertanties.\n",
        "\n",
        "Let's see what it comes up with, and how far our data is from the fits."
      ]
    },
    {
      "cell_type": "markdown",
      "metadata": {
        "id": "e-9K_IADoFcg"
      },
      "source": [
        "Try to fit your data to the two models. Can you tell yet whether you have better agreement with one model over the other?"
      ]
    },
    {
      "cell_type": "code",
      "metadata": {
        "colab": {
          "base_uri": "https://localhost:8080/"
        },
        "id": "eovatUbl5Yzt",
        "outputId": "39a7ba27-be7c-4b89-eead-e1469c2ac521"
      },
      "source": [
        "# Fits\n",
        "print('FIT: D = A*K^(1/3)')\n",
        "print('-----')\n",
        "third_fit, third_err, third_chisq, third_dof = data_fit(['A'], [1], third_power,\n",
        "                        Energy, Crater_Width_Average, Crater_Width_Uncertainty)\n",
        "\n",
        "print('FIT: D = B*K^(1/4)')\n",
        "print('-----')\n",
        "quarter_fit, quarter_err, quarter_chisq, quarter_dof = data_fit(['B'], [1], quarter_power,\n",
        "                        Energy, Crater_Width_Average, Crater_Width_Uncertainty)"
      ],
      "execution_count": null,
      "outputs": [
        {
          "output_type": "stream",
          "name": "stdout",
          "text": [
            "FIT: D = A*K^(1/3)\n",
            "-----\n",
            "Converged with chi-squared: 157.32\n",
            "Number of degrees of freedom, dof: 6\n",
            "Reduced chi-squared (chi-squared/dof): 26.22\n",
            "\n",
            "Parameter   | Best fit values:         | Uncertainties in the best fit values:\n",
            "A           | 16.2856                  | 0.1054                  \n",
            "\n",
            "FIT: D = B*K^(1/4)\n",
            "-----\n",
            "Converged with chi-squared: 3.91\n",
            "Number of degrees of freedom, dof: 6\n",
            "Reduced chi-squared (chi-squared/dof): 0.65\n",
            "\n",
            "Parameter   | Best fit values:         | Uncertainties in the best fit values:\n",
            "B           | 11.8495                  | 0.0765                  \n",
            "\n"
          ]
        }
      ]
    },
    {
      "cell_type": "markdown",
      "metadata": {
        "id": "1zIDaFX7154o"
      },
      "source": [
        "Next, let's plot the fits to see how they look compared to the data. "
      ]
    },
    {
      "cell_type": "code",
      "metadata": {
        "colab": {
          "base_uri": "https://localhost:8080/",
          "height": 661,
          "referenced_widgets": [
            "e1b72c2ba96945b29301e62cc6c24fc0",
            "635ccf2d637947b2ab216ea0f8d3f0bf",
            "6d0ded7e3e1649af9e91c949dcdef858",
            "7ae992d9a44949bda3433ed9b80809ba",
            "2afffe0edea64064bb556fda7ecc876f",
            "1bb8f68f1a4641eea1aea208b01409da",
            "badb5f5441a34fc2b03dc0b2bf44ddb6"
          ]
        },
        "id": "jmmw-S1w16gW",
        "outputId": "c149d24b-906c-4a5f-abb4-d411499b95e3"
      },
      "source": [
        "#Plots\n",
        "@widgets.interact(logplot = widgets.Checkbox(value=False,\n",
        "                                             description= 'log-log plot?'))\n",
        "\n",
        "def update(logplot):\n",
        "  fig,ax = plt.subplots()\n",
        "  ax.errorbar(Energy, Crater_Width_Average, Crater_Width_Uncertainty, fmt='k.',\n",
        "            label=\"Data\", capsize=2)\n",
        "  \n",
        "  X = np.linspace(min(Energy), max(Energy), 5000)\n",
        "  X_longer = np.linspace(0.25*min(Energy), 1.2*max(Energy), 5000)\n",
        "\n",
        "  ax.plot(X_longer, third_power(third_fit, X_longer), 'b--')\n",
        "  ax.plot(X, third_power(third_fit, X), 'b-', label=\"$A*K^{1/3}$\")\n",
        "  \n",
        "  ax.plot(X_longer, quarter_power(quarter_fit, X_longer), 'r--')\n",
        "  ax.plot(X, quarter_power(quarter_fit, X), 'r-', label=\"$B*K^{1/4}$\")\n",
        "\n",
        "  if logplot == True:\n",
        "    ax.set_xscale('log')\n",
        "    ax.set_yscale('log')\n",
        "\n",
        "  ax.set_title(\"Power law fit Comparison\")\n",
        "  ax.set_ylabel(\"Crater Diameter (cm)\")\n",
        "  ax.set_xlabel(\"Energy (J)\")\n",
        "    \n",
        "  ax.legend()"
      ],
      "execution_count": null,
      "outputs": [
        {
          "output_type": "display_data",
          "data": {
            "application/vnd.jupyter.widget-view+json": {
              "model_id": "e1b72c2ba96945b29301e62cc6c24fc0",
              "version_minor": 0,
              "version_major": 2
            },
            "text/plain": [
              "interactive(children=(Checkbox(value=False, description='log-log plot?'), Output()), _dom_classes=('widget-int…"
            ]
          },
          "metadata": {}
        }
      ]
    },
    {
      "cell_type": "markdown",
      "metadata": {
        "id": "EKl6Bo7AxZsy"
      },
      "source": [
        "It might still be a little hard to tell how far the data is from the fits, so let's make a plot of residuals for each of the two functions below. We'll also include the sum of the residuals squared (i.e. $\\chi^2$) as a title so we don't have to do that by hand."
      ]
    },
    {
      "cell_type": "code",
      "metadata": {
        "colab": {
          "base_uri": "https://localhost:8080/",
          "height": 641
        },
        "id": "18Mb-U1fxUCV",
        "outputId": "7e8de47d-48f7-466f-9f87-fc575e4acd93"
      },
      "source": [
        "fig,(ax,ay) = plt.subplots(2,1,sharex=True,sharey=True)\n",
        "\n",
        "ax.plot(Energy,residual(third_fit,third_power,Energy,Crater_Width_Average,Crater_Width_Uncertainty),'b.',label='third power')\n",
        "ax.vlines(Energy,0,residual(third_fit,third_power,Energy,Crater_Width_Average,Crater_Width_Uncertainty),'b')\n",
        "ax.hlines(0,min(Energy),max(Energy),'b',alpha=0.25)\n",
        "third_sum_residuals = sum(residual(third_fit,third_power,Energy,Crater_Width_Average,Crater_Width_Uncertainty)**2)\n",
        "\n",
        "ay.plot(Energy,residual(quarter_fit,quarter_power,Energy,Crater_Width_Average,Crater_Width_Uncertainty),'r.',label='quarter power')\n",
        "ay.vlines(Energy,0,residual(quarter_fit,quarter_power,Energy,Crater_Width_Average,Crater_Width_Uncertainty),'r')\n",
        "ay.hlines(0,min(Energy),max(Energy),'r',alpha=0.25)\n",
        "quarter_sum_residuals = sum(residual(quarter_fit,quarter_power,Energy,Crater_Width_Average,Crater_Width_Uncertainty)**2)\n",
        "\n",
        "ax.set_ylabel(\"Residual\")\n",
        "ax.set_xlabel(\"Energy (J)\")\n",
        "ax.set_title(\"$\\chi^2$ = {:.2f}\".format(third_sum_residuals))\n",
        "ax.legend(loc=2)\n",
        "\n",
        "ay.set_ylabel(\"Residual\")\n",
        "ay.set_xlabel(\"Energy (J)\")\n",
        "ay.set_title(\"$\\chi^2$ = {:.2f}\".format(quarter_sum_residuals))\n",
        "ay.legend(loc=2)\n",
        "\n",
        "fig.tight_layout()\n",
        "plt.show()"
      ],
      "execution_count": null,
      "outputs": [
        {
          "output_type": "display_data",
          "data": {
            "image/png": "[encoded data removed]",
            "text/plain": [
              "<Figure size 960x640 with 2 Axes>"
            ]
          },
          "metadata": {
            "needs_background": "light"
          }
        }
      ]
    },
    {
      "cell_type": "markdown",
      "metadata": {
        "id": "GzyCzd3vo9Px"
      },
      "source": [
        "Do you find better agreement with one model over the other? What criteria are you using to make that decision?\n",
        "\n",
        "Does either of your models show a trend in the residuals? (That is, do the residuals all fall too low in one part then too high in another part rather than randomly up and down all over?) What does this indicate about the quality of the fit?"
      ]
    },
    {
      "cell_type": "markdown",
      "metadata": {
        "id": "eXHyW_Tlzmkc"
      },
      "source": [
        "Does it help to fit to a more general function where the exponent is itself a fit parameter? Maybe the best fit isn't to a 1/3- or 1/4-power law, but to something else?"
      ]
    },
    {
      "cell_type": "code",
      "metadata": {
        "colab": {
          "base_uri": "https://localhost:8080/",
          "height": 831,
          "referenced_widgets": [
            "d7dca86335404762a425d3e6c74c1b1b",
            "4218fcb462614ee0ab0a180987173e41",
            "8257d11eaf08419a8caa94e42ee0f1fc",
            "c43fe1f7f5ca4b69bdf6f1f7ba04f30b",
            "b7c0e60cd8d24ff4a554dad3d36e4bc4",
            "fc2053ce9b84409fbb0c3215344e6dbd",
            "ffb117c507fe494aa68c90d315457c04"
          ]
        },
        "id": "5uCf1tCE8UHo",
        "outputId": "cf814373-13e0-44d6-a2a1-0f3a868a05a2"
      },
      "source": [
        "#Fit\n",
        "print('FIT: D = C*K^x')\n",
        "print('-----')\n",
        "gen_fit, gen_err, gen_chisq, gen_dof = data_fit(['C', 'x'], [1, 0.5], gen_power,\n",
        "                        Energy, Crater_Width_Average, Crater_Width_Uncertainty)\n",
        "\n",
        "#Plots\n",
        "@widgets.interact(logplot = widgets.Checkbox(value=False,\n",
        "                                             description= 'log-log plot?'))\n",
        "\n",
        "def update(logplot):\n",
        "  fig,ax = plt.subplots()\n",
        "  ax.errorbar(Energy, Crater_Width_Average, Crater_Width_Uncertainty, fmt='k.',\n",
        "            label=\"Data\", capsize=2)\n",
        "  \n",
        "  X = np.linspace(min(Energy), max(Energy), 5000)\n",
        "  X_longer = np.linspace(0.1*min(Energy), 1.2*max(Energy), 5000)\n",
        "  \n",
        "  ax.plot(X_longer, third_power(third_fit, X_longer), 'b--')\n",
        "  ax.plot(X, third_power(third_fit, X), 'b-', label=\"$A*K^{1/3}$\")\n",
        "\n",
        "  ax.plot(X_longer, quarter_power(quarter_fit, X_longer), 'r--')\n",
        "  ax.plot(X, quarter_power(quarter_fit, X), 'r-', label=\"$B*K^{1/4}$\")\n",
        "  \n",
        "  ax.plot(X_longer, gen_power(gen_fit, X_longer), 'g--')\n",
        "  ax.plot(X, gen_power(gen_fit, X), 'g-', label=\"$C*K^x$\")\n",
        "  \n",
        "  if logplot == True:\n",
        "    ax.set_xscale('log')\n",
        "    ax.set_yscale('log')\n",
        "\n",
        "  ax.set_title(\"Power law fit Comparison\")\n",
        "  ax.set_ylabel(\"Crater Diameter (cm)\")\n",
        "  ax.set_xlabel(\"Energy (J)\")\n",
        "  \n",
        "  ax.legend()"
      ],
      "execution_count": null,
      "outputs": [
        {
          "output_type": "stream",
          "name": "stdout",
          "text": [
            "FIT: D = C*K^x\n",
            "-----\n",
            "Converged with chi-squared: 3.74\n",
            "Number of degrees of freedom, dof: 5\n",
            "Reduced chi-squared (chi-squared/dof): 0.75\n",
            "\n",
            "Parameter   | Best fit values:         | Uncertainties in the best fit values:\n",
            "C           | 11.7182                  | 0.3275                  \n",
            "x           | 0.2472                   | 0.0069                  \n",
            "\n"
          ]
        },
        {
          "output_type": "display_data",
          "data": {
            "application/vnd.jupyter.widget-view+json": {
              "model_id": "d7dca86335404762a425d3e6c74c1b1b",
              "version_minor": 0,
              "version_major": 2
            },
            "text/plain": [
              "interactive(children=(Checkbox(value=False, description='log-log plot?'), Output()), _dom_classes=('widget-int…"
            ]
          },
          "metadata": {}
        }
      ]
    },
    {
      "cell_type": "code",
      "metadata": {
        "colab": {
          "base_uri": "https://localhost:8080/",
          "height": 641
        },
        "id": "XOFBrsFPzygB",
        "outputId": "34b9c185-17ac-4c82-b022-8fd2d856c8fb"
      },
      "source": [
        "fig,ax = plt.subplots()\n",
        "\n",
        "ax.plot(Energy,residual(gen_fit,gen_power,Energy,Crater_Width_Average,Crater_Width_Uncertainty),'b.',label='general power')\n",
        "ax.vlines(Energy,0,residual(gen_fit,gen_power,Energy,Crater_Width_Average,Crater_Width_Uncertainty),'b')\n",
        "ax.hlines(0,min(Energy),max(Energy),'b',alpha=0.25)\n",
        "gen_sum_residuals = sum(residual(gen_fit,gen_power,Energy,Crater_Width_Average,Crater_Width_Uncertainty)**2)\n",
        "\n",
        "ax.set_ylabel(\"Residual\")\n",
        "ax.set_xlabel(\"Energy (J)\")\n",
        "ax.set_title(\"$\\chi^2$ = {:.2f}\".format(gen_sum_residuals))\n",
        "ax.legend(loc=2)\n",
        "\n",
        "fig.tight_layout()\n",
        "plt.show()"
      ],
      "execution_count": null,
      "outputs": [
        {
          "output_type": "display_data",
          "data": {
            "image/png": "[encoded data removed]",
            "text/plain": [
              "<Figure size 960x640 with 1 Axes>"
            ]
          },
          "metadata": {
            "needs_background": "light"
          }
        }
      ]
    },
    {
      "cell_type": "markdown",
      "metadata": {
        "id": "CCdm4rdZ_rt4"
      },
      "source": [
        "Now, let's use our model to make predictions. Input an energy to predict a crater diameter."
      ]
    },
    {
      "cell_type": "code",
      "metadata": {
        "id": "uVdNWf7NqJTR",
        "colab": {
          "base_uri": "https://localhost:8080/"
        },
        "outputId": "f1cf4b40-07ca-4b9f-e1a8-d9610cf0a08f"
      },
      "source": [
        "val = input(\"Enter an energy (in J) to see what your models predict for the crater diameter: \")\n",
        "test_K = float(val)\n",
        "\n",
        "D_third = third_power(third_fit, test_K)\n",
        "dD_third = D_third*third_err[0]/third_fit[0]\n",
        "D_quarter = quarter_power(quarter_fit, test_K)\n",
        "dD_quarter = D_quarter*quarter_err[0]/quarter_fit[0]\n",
        "D_gen = gen_power(gen_fit, test_K)\n",
        "dD_gen = D_gen*np.sqrt((gen_err[0]/gen_fit[0])**2 + (gen_fit[1]*gen_err[1]/test_K)**2)\n",
        "\n",
        "print(\"1/3-power prediction: \", D_third, \" +/- \", dD_third, \"cm\")\n",
        "print(\"1/4-power prediction: \", D_quarter,\" +/- \", dD_quarter, \"cm\")\n",
        "print(\"general-power prediction: \", D_gen, \" +/- \", dD_gen, \"cm\")"
      ],
      "execution_count": null,
      "outputs": [
        {
          "output_type": "stream",
          "name": "stdout",
          "text": [
            "Enter an energy (in J) to see what your models predict for the crater diameter: 1.0\n",
            "1/3-power prediction:  16.2855865943358  +/-  0.10542495018383671 cm\n",
            "1/4-power prediction:  11.849452727480063  +/-  0.0764621869157053 cm\n",
            "general-power prediction:  11.71820383479297  +/-  0.3281096393926646 cm\n"
          ]
        }
      ]
    },
    {
      "cell_type": "code",
      "metadata": {
        "id": "6CdDIwnF_zBS"
      },
      "source": [
        ""
      ],
      "execution_count": null,
      "outputs": []
    }
  ]
}